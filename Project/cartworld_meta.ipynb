{
  "cells": [
    {
      "cell_type": "code",
      "execution_count": 1,
      "id": "d8217774-d277-45f5-8cf8-d5132d0ca793",
      "metadata": {
        "colab": {
          "base_uri": "https://localhost:8080/"
        },
        "id": "d8217774-d277-45f5-8cf8-d5132d0ca793",
        "outputId": "eea6476b-f76b-4ac6-e6d1-9a67a6db2df4"
      },
      "outputs": [
        {
          "name": "stdout",
          "output_type": "stream",
          "text": [
            "Requirement already satisfied: setuptools==65.5.0 in /Users/joykirat/miniconda3/envs/mtl/lib/python3.9/site-packages (65.5.0)\n",
            "fatal: destination path 'aiagentarch' already exists and is not an empty directory.\n",
            "Requirement already satisfied: pyglet==1.5.27 in /Users/joykirat/miniconda3/envs/mtl/lib/python3.9/site-packages (1.5.27)\n",
            "/Users/joykirat/Downloads/sem8/MTL/project/aiagentarch\n"
          ]
        }
      ],
      "source": [
        "!pip install --upgrade setuptools==65.5.0\n",
        "!pip install --quiet stable_baselines3\n",
        "!pip install --quiet import_ipynb\n",
        "!git clone https://github.com/gmshroff/aiagentarch.git\n",
        "!pip install pyglet==1.5.27\n",
        "%cd aiagentarch"
      ]
    },
    {
      "cell_type": "code",
      "execution_count": 35,
      "id": "d0e8289f-e2f8-43d4-bfd4-b0913edf0f29",
      "metadata": {
        "id": "d0e8289f-e2f8-43d4-bfd4-b0913edf0f29"
      },
      "outputs": [],
      "source": [
        "import gym\n",
        "from gym import spaces\n",
        "from gym import Env\n",
        "import random\n",
        "import numpy as np\n",
        "from threading import Thread\n",
        "import threading\n",
        "from stable_baselines3 import PPO\n",
        "from stable_baselines3.common.vec_env import DummyVecEnv,VecFrameStack\n",
        "from stable_baselines3.common.monitor import Monitor as Mon\n",
        "from stable_baselines3.common.vec_env import StackedObservations\n",
        "import random"
      ]
    },
    {
      "cell_type": "code",
      "execution_count": 36,
      "id": "dd282224-20ee-4bb0-85e8-82a65cb6538a",
      "metadata": {
        "id": "dd282224-20ee-4bb0-85e8-82a65cb6538a"
      },
      "outputs": [],
      "source": [
        "# for thread in threading.enumerate(): \n",
        "#     print(thread.name)"
      ]
    },
    {
      "cell_type": "code",
      "execution_count": 37,
      "id": "1f55b243-bf59-4ac8-93c8-e001b25737b6",
      "metadata": {
        "id": "1f55b243-bf59-4ac8-93c8-e001b25737b6",
        "tags": []
      },
      "outputs": [],
      "source": [
        "# for thread in threading.enumerate(): \n",
        "#     print(thread.name)"
      ]
    },
    {
      "cell_type": "markdown",
      "id": "67e0c3d3-6686-4413-b5be-f9bd31ad73ab",
      "metadata": {
        "id": "67e0c3d3-6686-4413-b5be-f9bd31ad73ab"
      },
      "source": [
        "### Agent-based RL in Simple Worlds"
      ]
    },
    {
      "cell_type": "code",
      "execution_count": 38,
      "id": "a6517152-bd6d-4d36-a5b6-a8b95f2d100c",
      "metadata": {
        "colab": {
          "base_uri": "https://localhost:8080/"
        },
        "id": "a6517152-bd6d-4d36-a5b6-a8b95f2d100c",
        "outputId": "9f203ef5-c2de-41a6-c2eb-c1102158de9d"
      },
      "outputs": [],
      "source": [
        "import import_ipynb\n",
        "from aiagentbase import AIAgent,Controller,Memory,Perception,Actor"
      ]
    },
    {
      "cell_type": "code",
      "execution_count": 39,
      "id": "57f58712-9ee1-46c9-a8de-78731544b637",
      "metadata": {
        "colab": {
          "base_uri": "https://localhost:8080/"
        },
        "id": "57f58712-9ee1-46c9-a8de-78731544b637",
        "outputId": "198d4fde-ff01-40f3-f355-115c7bd6a210"
      },
      "outputs": [],
      "source": [
        "from cartpole_tasks import CartPoleEnv"
      ]
    },
    {
      "cell_type": "code",
      "execution_count": 40,
      "id": "f60ea072-987c-4d83-819a-fcc3b34933cc",
      "metadata": {
        "id": "f60ea072-987c-4d83-819a-fcc3b34933cc"
      },
      "outputs": [],
      "source": [
        "env = CartPoleEnv()"
      ]
    },
    {
      "cell_type": "code",
      "execution_count": 41,
      "id": "20e9f4fa-0689-4463-9fdf-48908932a18b",
      "metadata": {
        "id": "20e9f4fa-0689-4463-9fdf-48908932a18b"
      },
      "outputs": [],
      "source": [
        "class CartWorldMeta():\n",
        "    def __init__(self,env):\n",
        "        self.env=env\n",
        "        self.test_episodes=[]\n",
        "        self.world_over=False\n",
        "    def stop(self):\n",
        "        self.world_over=True\n",
        "    def run_all(self,agent,perf,n_episodes=10,total_tasks=None,replay=None):\n",
        "        if total_tasks is None:\n",
        "            for g in perf:\n",
        "                for l in perf[g]:\n",
        "                    env.length,env.gravity=l,g\n",
        "                    env.polemass_length = env.masspole * env.length\n",
        "                    self.run(agent,n_episodes=n_episodes)\n",
        "            return []\n",
        "        elif replay is None:\n",
        "            replay=[]\n",
        "            for task in range(total_tasks):\n",
        "                env.length=random.choice(list(perf[10].keys()))\n",
        "                env.gravity=random.choice(list(perf.keys()))\n",
        "                replay+=[(env.length,env.gravity)]\n",
        "                env.polemass_length = env.masspole * env.length\n",
        "                print(f'Task:{task},length:{env.length},gravity:{env.gravity}')\n",
        "                self.run(agent,n_episodes=n_episodes)\n",
        "            return replay\n",
        "        else:\n",
        "            for l,g in replay:\n",
        "                env.length=l\n",
        "                env.gravity=g\n",
        "                env.polemass_length = env.masspole * env.length\n",
        "                print(f'length:{env.length},gravity:{env.gravity}')\n",
        "                self.run(agent,n_episodes=n_episodes)\n",
        "            return replay\n",
        "    def run(self,agent=None,n_episodes=10,episode_maxlen=1000):\n",
        "        agent.observation_space=env.observation_space\n",
        "        if 'training' not in agent.__dict__: agent.training=False\n",
        "        if agent.training: testing=False \n",
        "        else: testing=True\n",
        "        if agent.training: print('Starting Training time: ',agent.time)\n",
        "        for episode in range(n_episodes):\n",
        "            # print('CartAgent','starting episode')\n",
        "            state=self.env.reset()\n",
        "            agent.begin()\n",
        "            # print(agent.time)#,agent.ep)\n",
        "            for t in range(episode_maxlen):\n",
        "                # print(f'length:{env.length},gravity:{env.gravity}')\n",
        "                # env.render(mode='rgb_array')\n",
        "                action=agent.act(state)\n",
        "                # print(episode,t,'Action: ', action)\n",
        "                state, reward, done, info = env.step(action)\n",
        "                agent.reward((reward,done,info))\n",
        "                # print(episode,t,'Reward sent: ', reward)\n",
        "                if done:\n",
        "                    break\n",
        "            if self.world_over:break\n",
        "            if not agent.training: self.test_episodes+=[episode]\n",
        "            if not agent.training and not testing: \n",
        "                print('Training Over at time: ',agent.time)\n",
        "                testing=True\n",
        "                self.world_over=True\n",
        "        print('Testing Done time: ', agent.time, ' Reward: ', agent.avg_rew())\n",
        "        return agent.avg_rew()"
      ]
    },
    {
      "cell_type": "code",
      "execution_count": 42,
      "id": "9a95733e-f863-432b-ac20-753d221e6fa9",
      "metadata": {
        "id": "9a95733e-f863-432b-ac20-753d221e6fa9"
      },
      "outputs": [],
      "source": [
        "class RandomAIAgent(AIAgent):\n",
        "    def __init__(self,action_space):\n",
        "        super().__init__()\n",
        "        self.actor=self.Actor(parent=self)\n",
        "        self.action_space=action_space\n",
        "        self.tot_rew=0\n",
        "        self.rewL=[]\n",
        "        \n",
        "    class Actor(Actor):\n",
        "        def __init__(self,parent): \n",
        "            super().__init__(parent=parent)\n",
        "        def call_model(self,state):\n",
        "        ##Overriding AIAgent.Model\n",
        "            # print(self.parent.action_space.sample())\n",
        "            action = self.parent.action_space.sample()\n",
        "            return action\n",
        "        def compute_reward(self,reward):\n",
        "            return reward[0]\n",
        "    \n",
        "    def reward(self,rew):\n",
        "        ##Augmenting AIAgent\n",
        "        self.tot_rew+=rew[0]\n",
        "        return super().reward(rew)\n",
        "    def begin(self):\n",
        "        ##Augmenting AIAgent\n",
        "        self.rewL+=[self.tot_rew]\n",
        "        super().begin()\n",
        "    def avg_rew(self):\n",
        "        return sum(self.rewL)/len(self.rewL)"
      ]
    },
    {
      "cell_type": "code",
      "execution_count": 43,
      "id": "b122fb6f-f23c-41ba-95b4-728b058b88c0",
      "metadata": {
        "id": "b122fb6f-f23c-41ba-95b4-728b058b88c0"
      },
      "outputs": [],
      "source": [
        "import pickle\n",
        "with open('./perf.pickle','rb') as f: perf=pickle.load(f)"
      ]
    },
    {
      "cell_type": "code",
      "execution_count": 44,
      "id": "d01edb66-b700-4f8b-a922-069b1de00c49",
      "metadata": {
        "id": "d01edb66-b700-4f8b-a922-069b1de00c49"
      },
      "outputs": [],
      "source": [
        "agent=RandomAIAgent(env.action_space)\n",
        "agent.training=True"
      ]
    },
    {
      "cell_type": "code",
      "execution_count": 45,
      "id": "9712783c-fd5a-420a-9b27-91f2c5a28e68",
      "metadata": {
        "id": "9712783c-fd5a-420a-9b27-91f2c5a28e68"
      },
      "outputs": [],
      "source": [
        "agent.debug=False\n",
        "agent.use_memory=True"
      ]
    },
    {
      "cell_type": "code",
      "execution_count": 46,
      "id": "c43d9c18-d92e-478a-8eff-dd68f0af3d10",
      "metadata": {
        "id": "c43d9c18-d92e-478a-8eff-dd68f0af3d10"
      },
      "outputs": [],
      "source": [
        "agent.limit_memory=True\n",
        "agent.memory.limit_perceptual=2\n",
        "agent.memory.limit_sar=4"
      ]
    },
    {
      "cell_type": "code",
      "execution_count": 47,
      "id": "c30d921c-8d50-4e65-aed8-6f81caaee243",
      "metadata": {
        "id": "c30d921c-8d50-4e65-aed8-6f81caaee243"
      },
      "outputs": [],
      "source": [
        "world=CartWorldMeta(env=env)"
      ]
    },
    {
      "cell_type": "code",
      "execution_count": 48,
      "id": "24d0adf9-f667-49a4-a141-a60d9d595ebd",
      "metadata": {
        "id": "24d0adf9-f667-49a4-a141-a60d9d595ebd"
      },
      "outputs": [],
      "source": [
        "# worldthread=Thread(name='world',target=world.run,args=(agent))"
      ]
    },
    {
      "cell_type": "code",
      "execution_count": 49,
      "id": "f854c490-8ed2-4f50-9e46-8627525e843e",
      "metadata": {
        "id": "f854c490-8ed2-4f50-9e46-8627525e843e",
        "tags": []
      },
      "outputs": [],
      "source": [
        "# worldthread.start()"
      ]
    },
    {
      "cell_type": "code",
      "execution_count": 50,
      "id": "b8644cbd-6139-491d-8f12-720a4b619e07",
      "metadata": {
        "colab": {
          "base_uri": "https://localhost:8080/",
          "height": 336
        },
        "id": "b8644cbd-6139-491d-8f12-720a4b619e07",
        "outputId": "75ec36ad-d91b-4b35-ca21-735f555d8a63",
        "tags": []
      },
      "outputs": [
        {
          "name": "stdout",
          "output_type": "stream",
          "text": [
            "Task:0,length:4.5,gravity:130\n",
            "Starting Training time:  0\n",
            "Testing Done time:  268  Reward:  107.4\n",
            "Task:1,length:4.5,gravity:120\n",
            "Starting Training time:  268\n",
            "Testing Done time:  582  Reward:  257.7\n",
            "Task:2,length:1.5,gravity:110\n",
            "Starting Training time:  582\n",
            "Testing Done time:  807  Reward:  397.6333333333333\n",
            "Task:3,length:2.5,gravity:60\n",
            "Starting Training time:  807\n",
            "Testing Done time:  1117  Reward:  532.1\n",
            "Task:4,length:3.75,gravity:180\n",
            "Starting Training time:  1117\n",
            "Testing Done time:  1407  Reward:  678.42\n",
            "Task:5,length:4.0,gravity:90\n",
            "Starting Training time:  1407\n",
            "Testing Done time:  1734  Reward:  823.1166666666667\n",
            "Task:6,length:0.5,gravity:20\n",
            "Starting Training time:  1734\n",
            "Testing Done time:  1968  Reward:  967.3428571428572\n",
            "Task:7,length:3.75,gravity:130\n",
            "Starting Training time:  1968\n",
            "Testing Done time:  2263  Reward:  1107.4875\n",
            "Task:8,length:4.25,gravity:190\n",
            "Starting Training time:  2263\n",
            "Testing Done time:  2544  Reward:  1248.3666666666666\n",
            "Task:9,length:1.0,gravity:80\n",
            "Starting Training time:  2544\n",
            "Testing Done time:  2708  Reward:  1385.06\n",
            "Task:10,length:3.75,gravity:180\n",
            "Starting Training time:  2708\n",
            "Testing Done time:  2954  Reward:  1515.1909090909091\n",
            "Task:11,length:4.25,gravity:90\n",
            "Starting Training time:  2954\n",
            "Testing Done time:  3329  Reward:  1649.6083333333333\n",
            "Task:12,length:1.0,gravity:140\n",
            "Starting Training time:  3329\n",
            "Testing Done time:  3483  Reward:  1783.9538461538461\n",
            "Task:13,length:2.0,gravity:80\n",
            "Starting Training time:  3483\n",
            "Testing Done time:  3725  Reward:  1912.9857142857143\n",
            "Task:14,length:0.5,gravity:20\n",
            "Starting Training time:  3725\n",
            "Testing Done time:  3903  Reward:  2039.8266666666666\n",
            "Task:15,length:4.75,gravity:180\n",
            "Starting Training time:  3903\n",
            "Testing Done time:  4186  Reward:  2164.19375\n",
            "Task:16,length:4.0,gravity:130\n",
            "Starting Training time:  4186\n",
            "Testing Done time:  4500  Reward:  2289.9823529411765\n",
            "Task:17,length:3.0,gravity:110\n",
            "Starting Training time:  4500\n",
            "Testing Done time:  4782  Reward:  2419.383333333333\n",
            "Task:18,length:4.0,gravity:170\n",
            "Starting Training time:  4782\n",
            "Testing Done time:  5050  Reward:  2550.4105263157894\n",
            "Task:19,length:2.5,gravity:180\n",
            "Starting Training time:  5050\n",
            "Testing Done time:  5283  Reward:  2679.945\n"
          ]
        }
      ],
      "source": [
        "r=world.run_all(agent,perf,total_tasks=20,replay=None)"
      ]
    },
    {
      "cell_type": "code",
      "execution_count": 51,
      "id": "b9a3b05a-3899-41c8-9c67-b73722da84af",
      "metadata": {
        "colab": {
          "base_uri": "https://localhost:8080/"
        },
        "id": "b9a3b05a-3899-41c8-9c67-b73722da84af",
        "outputId": "b35d8cfb-c6f7-4ec5-8ca1-69f4d1839803"
      },
      "outputs": [
        {
          "data": {
            "text/plain": [
              "13.399725"
            ]
          },
          "execution_count": 51,
          "metadata": {},
          "output_type": "execute_result"
        }
      ],
      "source": [
        "agent.avg_rew()/len(agent.ep)"
      ]
    },
    {
      "cell_type": "code",
      "execution_count": 19,
      "id": "45180a22-fbfb-4982-b123-dd2ddbbe84d9",
      "metadata": {
        "id": "45180a22-fbfb-4982-b123-dd2ddbbe84d9",
        "tags": []
      },
      "outputs": [
        {
          "ename": "",
          "evalue": "",
          "output_type": "error",
          "traceback": [
            "\u001b[1;31mThe Kernel crashed while executing code in the the current cell or a previous cell. Please review the code in the cell(s) to identify a possible cause of the failure. Click <a href='https://aka.ms/vscodeJupyterKernelCrash'>here</a> for more info. View Jupyter <a href='command:jupyter.viewOutput'>log</a> for further details."
          ]
        }
      ],
      "source": [
        "# agent.memory.perceptual_memory"
      ]
    },
    {
      "cell_type": "code",
      "execution_count": null,
      "id": "68549844-fcd7-4396-8669-34d145eb7e17",
      "metadata": {
        "id": "68549844-fcd7-4396-8669-34d145eb7e17"
      },
      "outputs": [],
      "source": [
        "with open('./replay.pickle','wb') as f: pickle.dump(r,f)"
      ]
    },
    {
      "cell_type": "markdown",
      "id": "41e24475-66fc-4544-a0fe-20297b9246ac",
      "metadata": {
        "id": "41e24475-66fc-4544-a0fe-20297b9246ac"
      },
      "source": [
        "### Training an AI Agent's Model using Generic RL Agent"
      ]
    },
    {
      "cell_type": "code",
      "execution_count": null,
      "id": "afefe229-241d-42fb-b5a2-0fe4b4f36c28",
      "metadata": {
        "id": "afefe229-241d-42fb-b5a2-0fe4b4f36c28"
      },
      "outputs": [],
      "source": [
        "from threading import Thread\n",
        "import threading\n",
        "import sys"
      ]
    },
    {
      "cell_type": "code",
      "execution_count": null,
      "id": "52cd9f07-62c7-4d48-af53-641fbe1ee17c",
      "metadata": {
        "id": "52cd9f07-62c7-4d48-af53-641fbe1ee17c"
      },
      "outputs": [],
      "source": [
        "from queue import Queue"
      ]
    },
    {
      "cell_type": "code",
      "execution_count": null,
      "id": "cae673aa-2a03-4f7e-b067-e22eb58846cc",
      "metadata": {
        "id": "cae673aa-2a03-4f7e-b067-e22eb58846cc"
      },
      "outputs": [],
      "source": [
        "from aiagentbase import RLAgent"
      ]
    },
    {
      "cell_type": "code",
      "execution_count": null,
      "id": "7243708f-daf6-4305-a0b0-11fa82153781",
      "metadata": {
        "id": "7243708f-daf6-4305-a0b0-11fa82153781"
      },
      "outputs": [],
      "source": [
        "training_steps=1000000"
      ]
    },
    {
      "cell_type": "code",
      "execution_count": null,
      "id": "7f938dfc-36bd-4e18-87c0-584c3c8c0f80",
      "metadata": {
        "id": "7f938dfc-36bd-4e18-87c0-584c3c8c0f80"
      },
      "outputs": [],
      "source": [
        "agent=RLAgent(algoclass=PPO,monclass=Mon,action_space=env.action_space,observation_space=env.observation_space,\n",
        "              verbose=0,metarl=True,win=10,soclass=StackedObservations)"
      ]
    },
    {
      "cell_type": "code",
      "execution_count": null,
      "id": "44edef18-00b7-4098-96f8-01f51bccc195",
      "metadata": {
        "id": "44edef18-00b7-4098-96f8-01f51bccc195"
      },
      "outputs": [],
      "source": [
        "agent.debug=False\n",
        "agent.use_memory=True\n",
        "agent.training=True"
      ]
    },
    {
      "cell_type": "code",
      "execution_count": null,
      "id": "d1cce67f-0995-42fa-b1a1-1753133a37f6",
      "metadata": {
        "id": "d1cce67f-0995-42fa-b1a1-1753133a37f6"
      },
      "outputs": [],
      "source": [
        "agent.rewL=[]\n",
        "agent.tot_rew=0"
      ]
    },
    {
      "cell_type": "code",
      "execution_count": null,
      "id": "e6fd4736-40ee-4be8-9d65-95804512b2d3",
      "metadata": {
        "id": "e6fd4736-40ee-4be8-9d65-95804512b2d3"
      },
      "outputs": [],
      "source": [
        "agent.start(training_steps=training_steps)"
      ]
    },
    {
      "cell_type": "code",
      "execution_count": null,
      "id": "bb1e7d8e-eae8-43f4-98b2-28f652813c17",
      "metadata": {
        "id": "bb1e7d8e-eae8-43f4-98b2-28f652813c17"
      },
      "outputs": [],
      "source": [
        "world=CartWorldMeta(env=env)"
      ]
    },
    {
      "cell_type": "code",
      "execution_count": null,
      "id": "825ee6db-c404-4453-a405-c2cf8c54804b",
      "metadata": {
        "id": "825ee6db-c404-4453-a405-c2cf8c54804b"
      },
      "outputs": [],
      "source": [
        "# worldthread=Thread(name='world',target=world.run,args=(agent,2000,200))"
      ]
    },
    {
      "cell_type": "code",
      "execution_count": null,
      "id": "c295f9e2-c817-46d1-9078-c2135216f80b",
      "metadata": {
        "id": "c295f9e2-c817-46d1-9078-c2135216f80b",
        "tags": []
      },
      "outputs": [],
      "source": [
        "# worldthread.start()"
      ]
    },
    {
      "cell_type": "code",
      "execution_count": null,
      "id": "54061a8f-0775-42ce-a95f-300931b2eb4f",
      "metadata": {
        "id": "54061a8f-0775-42ce-a95f-300931b2eb4f",
        "tags": []
      },
      "outputs": [],
      "source": [
        "# len(agent.logL)"
      ]
    },
    {
      "cell_type": "code",
      "execution_count": null,
      "id": "56c2177c-3cdc-4dde-b113-606190837ff3",
      "metadata": {
        "id": "56c2177c-3cdc-4dde-b113-606190837ff3"
      },
      "outputs": [],
      "source": [
        "# agent.time"
      ]
    },
    {
      "cell_type": "code",
      "execution_count": null,
      "id": "077d1ab6-3a4e-4f75-a38a-0236a585f709",
      "metadata": {
        "id": "077d1ab6-3a4e-4f75-a38a-0236a585f709"
      },
      "outputs": [],
      "source": [
        "# agent.memory.sar_memory[10011]"
      ]
    },
    {
      "cell_type": "code",
      "execution_count": null,
      "id": "97014884-b69f-46e7-8be3-069a59bdf6ef",
      "metadata": {
        "id": "97014884-b69f-46e7-8be3-069a59bdf6ef"
      },
      "outputs": [],
      "source": [
        "with open('./replay.pickle','rb') as f: replay=pickle.load(f)"
      ]
    },
    {
      "cell_type": "code",
      "execution_count": null,
      "id": "2a2eb86f-9e74-44e8-b478-6d0ce518b196",
      "metadata": {
        "id": "2a2eb86f-9e74-44e8-b478-6d0ce518b196",
        "outputId": "ac6e3735-2e96-490e-eaca-18c7a0585167",
        "tags": []
      },
      "outputs": [
        {
          "name": "stdout",
          "output_type": "stream",
          "text": [
            "length:3.75,gravity:20\n",
            "Starting Training time:  0\n",
            "Testing Done time:  2959  Reward:  1273.22\n",
            "length:5.0,gravity:160\n",
            "Starting Training time:  2959\n",
            "Testing Done time:  4551  Reward:  2502.46\n",
            "length:2.5,gravity:50\n",
            "Starting Training time:  4551\n",
            "Testing Done time:  6466  Reward:  3495.9933333333333\n",
            "length:1.75,gravity:50\n",
            "Starting Training time:  6466\n",
            "Testing Done time:  8115  Reward:  4435.62\n",
            "length:1.0,gravity:150\n",
            "Starting Training time:  8115\n",
            "Testing Done time:  9033  Reward:  5262.62\n",
            "length:3.75,gravity:160\n",
            "Starting Training time:  9033\n",
            "Testing Done time:  10597  Reward:  6024.16\n",
            "length:1.75,gravity:110\n",
            "Starting Training time:  10597\n",
            "Testing Done time:  11883  Reward:  6769.791428571429\n",
            "length:0.75,gravity:100\n",
            "Starting Training time:  11883\n",
            "Testing Done time:  12937  Reward:  7472.4\n",
            "length:1.0,gravity:20\n",
            "Starting Training time:  12937\n",
            "Testing Done time:  18040  Reward:  8318.282222222222\n",
            "length:4.0,gravity:140\n",
            "Starting Training time:  18040\n",
            "Testing Done time:  19856  Reward:  9381.098\n",
            "length:0.75,gravity:170\n",
            "Starting Training time:  19856\n",
            "Testing Done time:  20802  Reward:  10373.047272727274\n",
            "length:2.25,gravity:10\n",
            "Starting Training time:  20802\n",
            "Testing Done time:  43021  Reward:  12072.336666666666\n",
            "length:5.25,gravity:190\n",
            "Starting Training time:  43021\n",
            "Testing Done time:  44765  Reward:  14522.584615384616\n",
            "length:2.0,gravity:70\n",
            "Starting Training time:  44765\n",
            "Testing Done time:  47530  Reward:  16773.61\n",
            "length:3.5,gravity:140\n",
            "Starting Training time:  47530\n",
            "Testing Done time:  49850  Reward:  18899.764\n",
            "length:5.0,gravity:100\n",
            "Starting Training time:  49850\n",
            "Testing Done time:  52907  Reward:  20930.73375\n",
            "length:0.75,gravity:30\n",
            "Starting Training time:  52907\n",
            "Testing Done time:  72480  Reward:  23155.65294117647\n",
            "length:0.75,gravity:150\n",
            "Starting Training time:  72480\n",
            "Testing Done time:  73775  Reward:  25932.467777777776\n",
            "length:1.75,gravity:140\n",
            "Starting Training time:  73775\n",
            "Testing Done time:  75359  Reward:  28491.02\n",
            "length:4.0,gravity:200\n",
            "Starting Training time:  75359\n",
            "Testing Done time:  76845  Reward:  30869.93\n"
          ]
        }
      ],
      "source": [
        "_=world.run_all(agent,perf,n_episodes=50,total_tasks=20,replay=replay)"
      ]
    },
    {
      "cell_type": "code",
      "execution_count": null,
      "id": "0f3125f5-d1b5-4642-bc9f-ccfa258ff799",
      "metadata": {
        "id": "0f3125f5-d1b5-4642-bc9f-ccfa258ff799",
        "outputId": "80faba67-5790-4a9f-a73b-3360e7d04f01"
      },
      "outputs": [
        {
          "data": {
            "text/plain": [
              "29.213291"
            ]
          },
          "execution_count": 26,
          "metadata": {},
          "output_type": "execute_result"
        }
      ],
      "source": [
        "# Without metarl training\n",
        "agent.avg_rew()/len(agent.ep)"
      ]
    },
    {
      "cell_type": "code",
      "execution_count": null,
      "id": "ed8afd67-3fc9-4fc0-b74d-91df72029dba",
      "metadata": {
        "id": "ed8afd67-3fc9-4fc0-b74d-91df72029dba",
        "outputId": "bdcd6f7c-0524-4af3-ae51-f53ed7d24383"
      },
      "outputs": [
        {
          "data": {
            "text/plain": [
              "30.86993"
            ]
          },
          "execution_count": 26,
          "metadata": {},
          "output_type": "execute_result"
        }
      ],
      "source": [
        "# With metarl training\n",
        "agent.avg_rew()/len(agent.ep)"
      ]
    },
    {
      "cell_type": "code",
      "execution_count": null,
      "id": "6dfb1406-99e7-4b80-b0ed-1e4eb8b91e8c",
      "metadata": {
        "id": "6dfb1406-99e7-4b80-b0ed-1e4eb8b91e8c"
      },
      "outputs": [],
      "source": [
        "agent.training=False"
      ]
    },
    {
      "cell_type": "code",
      "execution_count": null,
      "id": "262e88c7-7798-42c2-b608-9a0765293429",
      "metadata": {
        "id": "262e88c7-7798-42c2-b608-9a0765293429",
        "outputId": "6d7b53e5-e1d7-4132-df40-c7d136f73ae9"
      },
      "outputs": [
        {
          "name": "stdout",
          "output_type": "stream",
          "text": [
            "length:3.75,gravity:20\n",
            "Testing Done time:  112733  Reward:  33924.974285714285\n",
            "length:5.0,gravity:160\n",
            "Testing Done time:  114438  Reward:  37545.59909090909\n",
            "length:2.5,gravity:50\n",
            "Testing Done time:  162579  Reward:  41930.50869565218\n",
            "length:1.75,gravity:50\n",
            "Testing Done time:  212579  Reward:  47978.3625\n",
            "length:1.0,gravity:150\n",
            "Testing Done time:  227607  Reward:  54820.0936\n",
            "length:3.75,gravity:160\n",
            "Testing Done time:  229197  Reward:  61496.053076923075\n",
            "length:1.75,gravity:110\n",
            "Testing Done time:  267806  Reward:  68443.31185185185\n",
            "length:0.75,gravity:100\n",
            "Testing Done time:  317806  Reward:  76438.40785714285\n",
            "length:1.0,gravity:20\n",
            "Testing Done time:  367806  Reward:  85606.25586206897\n",
            "length:4.0,gravity:140\n",
            "Testing Done time:  369476  Reward:  95039.37666666666\n",
            "length:0.75,gravity:170\n",
            "Testing Done time:  374055  Reward:  103967.01741935484\n",
            "length:2.25,gravity:10\n",
            "Testing Done time:  424055  Reward:  113172.891875\n",
            "length:5.25,gravity:190\n",
            "Testing Done time:  425613  Reward:  122616.95393939393\n",
            "length:2.0,gravity:70\n",
            "Testing Done time:  475613  Reward:  132249.1905882353\n",
            "length:3.5,gravity:140\n",
            "Testing Done time:  477426  Reward:  142085.028\n",
            "length:5.0,gravity:100\n",
            "Testing Done time:  479325  Reward:  151426.01222222223\n",
            "length:0.75,gravity:30\n",
            "Testing Done time:  529325  Reward:  160950.3091891892\n",
            "length:0.75,gravity:150\n",
            "Testing Done time:  539811  Reward:  170754.52210526317\n",
            "length:1.75,gravity:140\n",
            "Testing Done time:  550640  Reward:  180421.39487179488\n",
            "length:4.0,gravity:200\n",
            "Testing Done time:  552075  Reward:  189693.7165\n"
          ]
        }
      ],
      "source": [
        "_=world.run_all(agent,perf,n_episodes=50,total_tasks=20,replay=replay)"
      ]
    },
    {
      "cell_type": "code",
      "execution_count": null,
      "id": "17c21089-cdcc-4647-8b40-e7a767e8be3e",
      "metadata": {
        "id": "17c21089-cdcc-4647-8b40-e7a767e8be3e",
        "outputId": "c19fc705-d617-45dc-cb21-25c011dce1ad"
      },
      "outputs": [
        {
          "data": {
            "text/plain": [
              "51.27103375"
            ]
          },
          "execution_count": 29,
          "metadata": {},
          "output_type": "execute_result"
        }
      ],
      "source": [
        "# Without metarl testing\n",
        "agent.avg_rew()/len(agent.ep)"
      ]
    },
    {
      "cell_type": "code",
      "execution_count": null,
      "id": "9346ed05-cf89-43e5-886c-098b32d74b43",
      "metadata": {
        "id": "9346ed05-cf89-43e5-886c-098b32d74b43",
        "outputId": "ec2a21ba-8972-4785-e6e9-8e1ecc644907"
      },
      "outputs": [
        {
          "data": {
            "text/plain": [
              "94.84685825000001"
            ]
          },
          "execution_count": 29,
          "metadata": {},
          "output_type": "execute_result"
        }
      ],
      "source": [
        "# With metarl testing\n",
        "agent.avg_rew()/len(agent.ep)"
      ]
    },
    {
      "cell_type": "code",
      "execution_count": null,
      "id": "04b4a528-95bd-46df-89b5-24208287a20f",
      "metadata": {
        "id": "04b4a528-95bd-46df-89b5-24208287a20f"
      },
      "outputs": [],
      "source": [
        "from matplotlib import pyplot as plt"
      ]
    },
    {
      "cell_type": "code",
      "execution_count": null,
      "id": "ed44ee84-a7ee-4c78-a177-21f84f5243bf",
      "metadata": {
        "id": "ed44ee84-a7ee-4c78-a177-21f84f5243bf"
      },
      "outputs": [],
      "source": [
        "# testing_len=len([agent.rewL[t] for t in world.test_episodes])"
      ]
    },
    {
      "cell_type": "code",
      "execution_count": null,
      "id": "e554e4c8-2681-4bd6-b805-b708fa863ab4",
      "metadata": {
        "id": "e554e4c8-2681-4bd6-b805-b708fa863ab4"
      },
      "outputs": [],
      "source": [
        "# testing_len"
      ]
    },
    {
      "cell_type": "code",
      "execution_count": null,
      "id": "6f1c83e7-4355-453e-84f0-fb8df19e141f",
      "metadata": {
        "id": "6f1c83e7-4355-453e-84f0-fb8df19e141f",
        "tags": []
      },
      "outputs": [],
      "source": [
        "# agent.rewL"
      ]
    },
    {
      "cell_type": "code",
      "execution_count": null,
      "id": "b24174f7-ddec-495e-bd52-9612889571c2",
      "metadata": {
        "id": "b24174f7-ddec-495e-bd52-9612889571c2"
      },
      "outputs": [],
      "source": [
        "# print(np.gradient(agent.rewL).mean())"
      ]
    },
    {
      "cell_type": "code",
      "execution_count": null,
      "id": "6688ab07-4271-4eb0-8cd4-11876c225adb",
      "metadata": {
        "id": "6688ab07-4271-4eb0-8cd4-11876c225adb",
        "outputId": "233ec98a-0dff-4ffe-c4de-0192bf42b8d6"
      },
      "outputs": [
        {
          "data": {
            "text/plain": [
              "[<matplotlib.lines.Line2D at 0x292673d90>]"
            ]
          },
          "execution_count": 32,
          "metadata": {},
          "output_type": "execute_result"
        },
        {
          "data": {
            "image/png": "[encoded data removed]",
            "text/plain": [
              "<Figure size 432x288 with 1 Axes>"
            ]
          },
          "metadata": {
            "needs_background": "light"
          },
          "output_type": "display_data"
        }
      ],
      "source": [
        "# Without metarl \n",
        "plt.plot(np.gradient(agent.rewL))"
      ]
    },
    {
      "cell_type": "code",
      "execution_count": null,
      "id": "8ff5dfe8-8654-4ae0-b155-dbfc156f5a6c",
      "metadata": {
        "id": "8ff5dfe8-8654-4ae0-b155-dbfc156f5a6c",
        "outputId": "41f94d47-7a2b-4936-cd39-5642c08c5fc4"
      },
      "outputs": [
        {
          "data": {
            "text/plain": [
              "[<matplotlib.lines.Line2D at 0x2a6a8be80>]"
            ]
          },
          "execution_count": 31,
          "metadata": {},
          "output_type": "execute_result"
        },
        {
          "data": {
            "image/png": "[encoded data removed]",
            "text/plain": [
              "<Figure size 432x288 with 1 Axes>"
            ]
          },
          "metadata": {
            "needs_background": "light"
          },
          "output_type": "display_data"
        }
      ],
      "source": [
        "# With metarl \n",
        "plt.plot(np.gradient(agent.rewL))"
      ]
    },
    {
      "cell_type": "code",
      "execution_count": null,
      "id": "31b82967-748a-4909-9228-8d2de329388e",
      "metadata": {
        "id": "31b82967-748a-4909-9228-8d2de329388e"
      },
      "outputs": [],
      "source": [
        "episodes = 50\n",
        "rewL=[]\n",
        "for episode in range(1, episodes+1):\n",
        "    state = env.reset()\n",
        "    done = False\n",
        "    score = 0 \n",
        "    steps=0\n",
        "    while not done and steps<=200:\n",
        "        env.render()\n",
        "        action=agent.act(state)\n",
        "        # action,_ = agent.model.predict(state)\n",
        "        state, reward, done, info = env.step(action)\n",
        "        score+=reward\n",
        "        steps+=1\n",
        "    # print('Episode:{} Score:{}'.format(episode, score))\n",
        "    rewL+=[score]\n",
        "env.close()"
      ]
    },
    {
      "cell_type": "code",
      "execution_count": null,
      "id": "30e78bfe-2dda-4fe5-a39d-06c88022a710",
      "metadata": {
        "id": "30e78bfe-2dda-4fe5-a39d-06c88022a710"
      },
      "outputs": [],
      "source": [
        "print(np.array(rewL).mean())"
      ]
    },
    {
      "cell_type": "code",
      "execution_count": null,
      "id": "81793756-e0ca-43b1-b3b5-a4a74c9083fd",
      "metadata": {
        "id": "81793756-e0ca-43b1-b3b5-a4a74c9083fd"
      },
      "outputs": [],
      "source": [
        "plt.plot(rewL)"
      ]
    },
    {
      "cell_type": "code",
      "execution_count": null,
      "id": "d7efbcb2-fe2c-498a-bd73-60ef0ec45112",
      "metadata": {
        "id": "d7efbcb2-fe2c-498a-bd73-60ef0ec45112"
      },
      "outputs": [],
      "source": []
    }
  ],
  "metadata": {
    "colab": {
      "provenance": []
    },
    "kernelspec": {
      "display_name": "Python 3 (ipykernel)",
      "language": "python",
      "name": "python3"
    },
    "language_info": {
      "codemirror_mode": {
        "name": "ipython",
        "version": 3
      },
      "file_extension": ".py",
      "mimetype": "text/x-python",
      "name": "python",
      "nbconvert_exporter": "python",
      "pygments_lexer": "ipython3",
      "version": "3.9.16"
    }
  },
  "nbformat": 4,
  "nbformat_minor": 5
}

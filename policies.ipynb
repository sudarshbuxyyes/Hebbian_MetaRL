{
  "nbformat": 4,
  "nbformat_minor": 0,
  "metadata": {
    "colab": {
      "provenance": [],
      "authorship_tag": "ABX9TyPVlnW/puPG3parGlN7/dOF"
    },
    "kernelspec": {
      "name": "python3",
      "display_name": "Python 3"
    },
    "language_info": {
      "name": "python"
    }
  },
  "cells": [
    {
      "cell_type": "code",
      "execution_count": 1,
      "metadata": {
        "id": "YD1JsNNOcgMp"
      },
      "outputs": [],
      "source": [
        "import torch\n",
        "import torch.nn as nn\n",
        "\n",
        "\n",
        "class MLP_heb(nn.Module):\n",
        "    \"MLP, no bias\"\n",
        "    def __init__(self, input_space, action_space):\n",
        "        super(MLP_heb, self).__init__()\n",
        "\n",
        "        self.fc1 = nn.Linear(input_space, 128, bias=False)\n",
        "        self.fc2 = nn.Linear(128, 64, bias=False)\n",
        "        self.fc3 = nn.Linear(64, action_space, bias=False)\n",
        "\n",
        "    def forward(self, ob):\n",
        "        state = torch.as_tensor(ob[0]).float().detach()\n",
        "        \n",
        "        x1 = torch.tanh(self.fc1(state))   \n",
        "        x2 = torch.tanh(self.fc2(x1))\n",
        "        o = self.fc3(x2)  \n",
        "         \n",
        "        return state, x1, x2, o\n",
        "        # return state, self.fc1(state), self.fc2(x1), self.fc3(x2)  \n",
        "    \n",
        "\n",
        "\n",
        "\n",
        "class CNN_heb(nn.Module):\n",
        "    \"CNN+MLP with n=input_channels frames as input. Non-activated last layer's output\"\n",
        "    def __init__(self, input_channels, action_space_dim):\n",
        "        super(CNN_heb, self).__init__()\n",
        "        \n",
        "        self.conv1 = nn.Conv2d(in_channels=input_channels, out_channels=6, kernel_size=3, stride=1, bias=False)   \n",
        "        self.pool = nn.MaxPool2d(2, 2)\n",
        "        self.conv2 = nn.Conv2d(in_channels=6, out_channels=8, kernel_size=5, stride=2, bias=False)\n",
        "        \n",
        "        self.linear1 = nn.Linear(648, 128, bias=False) \n",
        "        self.linear2 = nn.Linear(128, 64, bias=False)\n",
        "        self.out = nn.Linear(64, action_space_dim, bias=False)\n",
        "    \n",
        "    \n",
        "    def forward(self, ob):\n",
        "        \n",
        "        state = torch.as_tensor(ob.copy())\n",
        "        state = state.float()\n",
        "        \n",
        "        x1 = self.pool(torch.tanh(self.conv1(state)))\n",
        "        x2 = self.pool(torch.tanh(self.conv2(x1)))\n",
        "        \n",
        "        x3 = x2.view(-1)\n",
        "        \n",
        "        x4 = torch.tanh(self.linear1(x3))   \n",
        "        x5 = torch.tanh(self.linear2(x4))\n",
        "        \n",
        "        o = self.out(x5)\n",
        "\n",
        "        return x3, x4, x5, o"
      ]
    }
  ]
}